{
 "cells": [
  {
   "cell_type": "code",
   "execution_count": 2,
   "id": "ed2b2465-c075-4420-b19a-d0c583e5c719",
   "metadata": {},
   "outputs": [
    {
     "name": "stdout",
     "output_type": "stream",
     "text": [
      "Enter the marks of 5 subjects\n"
     ]
    },
    {
     "name": "stdin",
     "output_type": "stream",
     "text": [
      " 92\n",
      " 86\n",
      " 74\n",
      " 62\n",
      " 51\n"
     ]
    },
    {
     "name": "stdout",
     "output_type": "stream",
     "text": [
      "[92, 86, 74, 62, 51]\n",
      "Average:  73.0\n",
      "Grades:  {92: 'A', 86: 'B', 74: 'B', 62: 'C', 51: 'C'}\n"
     ]
    }
   ],
   "source": [
    "#Store marks for 5 subjects in a list\n",
    "marks =[]\n",
    "print(\"Enter the marks of 5 subjects\")\n",
    "for i in range(5):\n",
    "    marks.append(int(input()))\n",
    "print(marks)\n",
    "\n",
    "#Calculate the average and determine the grade\n",
    "grades = {}\n",
    "sum = 0\n",
    "for i in marks:\n",
    "    sum = sum + i\n",
    "    if (i >= 90):\n",
    "        grades[i] = \"A\"\n",
    "    elif (90 > i >= 70):\n",
    "        grades[i] = \"B\"\n",
    "    elif (70 > i >= 50):\n",
    "        grades[i] = \"C\"\n",
    "    else:\n",
    "        grades[i] = \"F\"\n",
    "Average = float(sum / len(marks))\n",
    "\n",
    "#Display the average and the grade.\n",
    "print(\"Average: \",Average)\n",
    "print(\"Grades: \",grades)"
   ]
  },
  {
   "cell_type": "code",
   "execution_count": null,
   "id": "3fa70fd7-cc59-4e14-9655-20076486227e",
   "metadata": {},
   "outputs": [],
   "source": []
  }
 ],
 "metadata": {
  "kernelspec": {
   "display_name": "Python 3 (ipykernel)",
   "language": "python",
   "name": "python3"
  },
  "language_info": {
   "codemirror_mode": {
    "name": "ipython",
    "version": 3
   },
   "file_extension": ".py",
   "mimetype": "text/x-python",
   "name": "python",
   "nbconvert_exporter": "python",
   "pygments_lexer": "ipython3",
   "version": "3.11.9"
  }
 },
 "nbformat": 4,
 "nbformat_minor": 5
}
