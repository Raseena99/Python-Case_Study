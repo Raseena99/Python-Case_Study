{
 "cells": [
  {
   "cell_type": "code",
   "execution_count": 4,
   "id": "9047ca52-c7f6-4aa0-9f19-a6202242066d",
   "metadata": {},
   "outputs": [
    {
     "name": "stdin",
     "output_type": "stream",
     "text": [
      "How many seats are available? 5\n"
     ]
    },
    {
     "name": "stdout",
     "output_type": "stream",
     "text": [
      "Enter available seat numbers\n"
     ]
    },
    {
     "name": "stdin",
     "output_type": "stream",
     "text": [
      " 11\n",
      " 58\n",
      " 54\n",
      " 26\n",
      " 33\n"
     ]
    },
    {
     "name": "stdout",
     "output_type": "stream",
     "text": [
      "Available seats are: [11, 58, 54, 26, 33]\n"
     ]
    },
    {
     "name": "stdin",
     "output_type": "stream",
     "text": [
      "Enter the seat number that you want to book 58\n"
     ]
    },
    {
     "name": "stdout",
     "output_type": "stream",
     "text": [
      "Your seat  58  has been booked for yourself\n",
      "Available seats [11, 54, 26, 33]\n"
     ]
    }
   ],
   "source": [
    "#Use a list to store the available seats (e.g., [1, 2, 3, ..., 20]).\n",
    "Available_seats = []\n",
    "n = int(input(\"How many seats are available?\"))\n",
    "print(\"Enter available seat numbers\")\n",
    "for i in range(n):\n",
    "    Available_seats.append(int(input()))\n",
    "\n",
    "#Allow the customer to book a seat by entering the seat number\n",
    "print(\"Available seats are:\", Available_seats)               \n",
    "x = int(input(\"Enter the seat number that you want to book\"))\n",
    "print(\"Your seat \",x,\" has been booked for yourself\")\n",
    "\n",
    "#After booking, remove the seat from the list of available seats\n",
    "Available_seats.remove(x)\n",
    "\n",
    "#Display the remaining available seats\n",
    "print(\"Available seats\",Available_seats)"
   ]
  },
  {
   "cell_type": "code",
   "execution_count": null,
   "id": "1f7449cf-e403-4ae4-97cc-321aedcffa54",
   "metadata": {},
   "outputs": [],
   "source": []
  }
 ],
 "metadata": {
  "kernelspec": {
   "display_name": "Python 3 (ipykernel)",
   "language": "python",
   "name": "python3"
  },
  "language_info": {
   "codemirror_mode": {
    "name": "ipython",
    "version": 3
   },
   "file_extension": ".py",
   "mimetype": "text/x-python",
   "name": "python",
   "nbconvert_exporter": "python",
   "pygments_lexer": "ipython3",
   "version": "3.11.9"
  }
 },
 "nbformat": 4,
 "nbformat_minor": 5
}
