{
 "cells": [
  {
   "cell_type": "code",
   "execution_count": 2,
   "id": "b0d92bf9-0065-4953-9fe7-f96c2c30c899",
   "metadata": {},
   "outputs": [
    {
     "name": "stdin",
     "output_type": "stream",
     "text": [
      "How many items are in there? 2\n",
      "Item name App\n",
      "Price of this item 20\n",
      "Item name egg\n",
      "Price of this item 10\n"
     ]
    },
    {
     "name": "stdout",
     "output_type": "stream",
     "text": [
      "{'App': 20.0, 'egg': 10.0}\n"
     ]
    },
    {
     "name": "stdin",
     "output_type": "stream",
     "text": [
      "If there is a next item then enter 'yes' or enter 'no': yes\n",
      "Purchased item name App\n",
      "How much of this item purchased? 2\n",
      "If there is a next item then enter 'yes' or enter 'no': egg\n"
     ]
    },
    {
     "name": "stdout",
     "output_type": "stream",
     "text": [
      "Enter 'Yes' or 'No'\n"
     ]
    },
    {
     "name": "stdin",
     "output_type": "stream",
     "text": [
      "If there is a next item then enter 'yes' or enter 'no': yes\n",
      "Purchased item name egg\n",
      "How much of this item purchased? 4\n",
      "If there is a next item then enter 'yes' or enter 'no': no\n"
     ]
    },
    {
     "name": "stdout",
     "output_type": "stream",
     "text": [
      "{'App': 2, 'egg': 4}\n",
      "80.0\n"
     ]
    }
   ],
   "source": [
    "#Store the prices of items in a dictionary\n",
    "items_price = {}\n",
    "n = int(input(\"How many items are in there?\"))\n",
    "for i in range(n):\n",
    "    item = input(\"Item name\")\n",
    "    price = float(input(\"Price of this item\"))\n",
    "    items_price[item] = price\n",
    "    \n",
    "print(items_price)\n",
    "\n",
    "#Take the items purchased and their quantities as input\n",
    "items_purchased = {}\n",
    "while True:\n",
    "    nxt = input(\"If there is a next item then enter 'yes' or enter 'no':\")\n",
    "    if(nxt.lower() == 'yes'):\n",
    "        item = input(\"Purchased item name\")\n",
    "        quantity = int(input(\"How much of this item purchased?\"))\n",
    "        items_purchased[item] = quantity\n",
    "    elif(nxt.lower() == 'no'):\n",
    "        break\n",
    "    else:\n",
    "        print(\"Enter 'Yes' or 'No'\")\n",
    "print(items_purchased)\n",
    "\n",
    "#Calculate and display the total bill amount\n",
    "bill = 0\n",
    "for k in items_price:\n",
    "    price = items_price.get(k)\n",
    "    if k in items_purchased:\n",
    "        qty = items_purchased.get(k)\n",
    "        new = price*qty\n",
    "    bill = bill+ new\n",
    "print(bill)"
   ]
  },
  {
   "cell_type": "code",
   "execution_count": null,
   "id": "29864b91-9f7d-404a-ba7e-3a24b5eb2f0f",
   "metadata": {},
   "outputs": [],
   "source": []
  }
 ],
 "metadata": {
  "kernelspec": {
   "display_name": "Python 3 (ipykernel)",
   "language": "python",
   "name": "python3"
  },
  "language_info": {
   "codemirror_mode": {
    "name": "ipython",
    "version": 3
   },
   "file_extension": ".py",
   "mimetype": "text/x-python",
   "name": "python",
   "nbconvert_exporter": "python",
   "pygments_lexer": "ipython3",
   "version": "3.11.9"
  }
 },
 "nbformat": 4,
 "nbformat_minor": 5
}
